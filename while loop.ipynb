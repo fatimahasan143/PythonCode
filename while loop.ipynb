{
 "cells": [
  {
   "cell_type": "code",
   "execution_count": 1,
   "metadata": {},
   "outputs": [
    {
     "name": "stdout",
     "output_type": "stream",
     "text": [
      "asma zawar,wellcome to pakistan. 0\n",
      "asma zawar,wellcome to pakistan. 1\n",
      "asma zawar,wellcome to pakistan. 2\n",
      "asma zawar,wellcome to pakistan. 3\n",
      "asma zawar,wellcome to pakistan. 4\n",
      "asma zawar,wellcome to pakistan. 5\n",
      "asma zawar,wellcome to pakistan. 6\n",
      "asma zawar,wellcome to pakistan. 7\n",
      "asma zawar,wellcome to pakistan. 8\n",
      "asma zawar,wellcome to pakistan. 9\n",
      "asma zawar,wellcome to pakistan. 10\n",
      "asma zawar,wellcome to pakistan. 11\n",
      "asma zawar,wellcome to pakistan. 12\n"
     ]
    }
   ],
   "source": [
    "# we used while loop to print this statement for 10 times\n",
    "\n",
    "# i = 0\n",
    "\n",
    "# while i<=10:\n",
    "#     print(\"Hello World...!!!\")\n",
    "#     i += 1\n",
    "\n",
    "# Now we will use for loop with range() function to iterate for 10 times\n",
    "\n",
    "for i in range(13):\n",
    "#     print(\"asma zawar,wellcome to pakistan.\")\n",
    "    print(f\"asma zawar,wellcome to pakistan. {i}\")"
   ]
  },
  {
   "cell_type": "code",
   "execution_count": 2,
   "metadata": {},
   "outputs": [
    {
     "name": "stdout",
     "output_type": "stream",
     "text": [
      "Please enter your age: 17\n",
      "Congratulations, you can play the game.\n"
     ]
    }
   ],
   "source": [
    "# This program will focus, how to use two conditions (compound conditions) in decision statements (if-else statements)\n",
    "name = 'abc'\n",
    "age = int(input(\"Please enter your age: \"))\n",
    "\n",
    "# here we'll test two conditions with 'AND' logical operator\n",
    "if name=='abc' and age>=14:\n",
    "    print(\"Congratulations, you can play the game.\")\n",
    "else:\n",
    "    print(\"Sorry, you cannot play this game. Try another one, please...!!!\")\n",
    "    \n",
    "# we found that while using 'AND' in test condition, it is only 'TRUE' if both conditions are 'TRUE' \n",
    "# Otherwise, condition will falseb"
   ]
  },
  {
   "cell_type": "code",
   "execution_count": null,
   "metadata": {},
   "outputs": [],
   "source": []
  }
 ],
 "metadata": {
  "kernelspec": {
   "display_name": "Python 3",
   "language": "python",
   "name": "python3"
  },
  "language_info": {
   "codemirror_mode": {
    "name": "ipython",
    "version": 3
   },
   "file_extension": ".py",
   "mimetype": "text/x-python",
   "name": "python",
   "nbconvert_exporter": "python",
   "pygments_lexer": "ipython3",
   "version": "3.7.4"
  }
 },
 "nbformat": 4,
 "nbformat_minor": 2
}
